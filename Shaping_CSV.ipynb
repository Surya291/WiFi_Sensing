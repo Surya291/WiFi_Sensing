{
 "cells": [
  {
   "cell_type": "code",
   "execution_count": 10,
   "metadata": {},
   "outputs": [],
   "source": [
    "import pandas as pd\n",
    "from scipy.fftpack import fft\n",
    "import numpy as np\n",
    "import matplotlib.pyplot as plt\n",
    "from pandas import read_csv"
   ]
  },
  {
   "cell_type": "code",
   "execution_count": 20,
   "metadata": {
    "scrolled": true
   },
   "outputs": [
    {
     "name": "stdout",
     "output_type": "stream",
     "text": [
      "Under Progress csi_walk_c1_1.csv\n",
      "done\n",
      "Under Progress csi_walk_b1_1.csv\n",
      "done\n",
      "Under Progress csi_walk_b2_1.csv\n",
      "done\n",
      "Under Progress csi_walk_e2_1.csv\n",
      "done\n",
      "Under Progress csi_walk_a4_1.csv\n",
      "done\n",
      "Under Progress csi_walk_e1_1.csv\n",
      "done\n",
      "Under Progress csi_walk_a5_1.csv\n",
      "done\n",
      "Under Progress csi_walk_b6_1.csv\n",
      "done\n",
      "Under Progress csi_walk_a2_1.csv\n",
      "done\n",
      "Under Progress csi_walk_d4_1.csv\n",
      "done\n",
      "Under Progress csi_walk_c4_1.csv\n",
      "done\n",
      "Under Progress csi_walk_d3_1.csv\n",
      "done\n",
      "Under Progress csi_walk_c6_1.csv\n",
      "done\n",
      "Under Progress csi_walk_a3_1.csv\n",
      "done\n",
      "Under Progress csi_walk_d2_1.csv\n",
      "done\n",
      "Under Progress csi_walk_e5_1.csv\n",
      "done\n",
      "Under Progress csi_walk_c3_1.csv\n",
      "done\n",
      "Under Progress csi_walk_e4_1.csv\n",
      "done\n",
      "Under Progress csi_walk_c5_1.csv\n",
      "done\n",
      "Under Progress csi_walk_e3_1.csv\n",
      "done\n",
      "Under Progress csi_walk_b4_1.csv\n",
      "done\n",
      "Under Progress csi_walk_b5_1.csv\n",
      "done\n",
      "Under Progress csi_walk_b3_1.csv\n",
      "done\n",
      "Under Progress csi_walk_a6_1.csv\n",
      "done\n",
      "Under Progress csi_walk_d6_1.csv\n",
      "done\n",
      "Under Progress csi_walk_c2_1.csv\n",
      "done\n",
      "Under Progress csi_walk_d5_1.csv\n",
      "done\n",
      "Under Progress csi_walk_d1_1.csv\n",
      "done\n",
      "Mission Accomplished!\n"
     ]
    }
   ],
   "source": [
    "import os\n",
    "directory = '/home/surya/Desktop/wifi_sensing/intel_dataset/intel_captures_for_25x30Room/July26_csv'\n",
    "z = '~/Desktop/wifi_sensing/intel_dataset/intel_captures_for_25x30Room/July26_csv/'\n",
    "\n",
    "for filename in os.listdir(directory):\n",
    "    if filename.endswith(\".csv\"):\n",
    "        a = z + filename\n",
    "        print('Under Progress',filename)\n",
    "        df = read_csv(a)\n",
    "        if (len(df.columns) == 90):\n",
    "            df.columns = ['a_1','b_1','c_1','a_2','b_2','c_2','a_3','b_3','c_3','a_4','b_4','c_4','a_5','b_5','c_5','a_6','b_6','c_6','a_7','b_7','c_7','a_8','b_8','c_8','a_9','b_9','c_9','a_10','b_10','c_10','a_11','b_11','c_11','a_12','b_12','c_12','a_13','b_13','c_13','a_14','b_14','c_14','a_15','b_15','c_15','a_16','b_16','c_16','a_17','b_17','c_17','a_18','b_18','c_18','a_19','b_19','c_19','a_20','b_20','c_20','a_21','b_21','c_21','a_22','b_22','c_22','a_23','b_23','c_23','a_24','b_24','c_24','a_25','b_25','c_25','a_26','b_26','c_26','a_27','b_27','c_27','a_28','b_28','c_28','a_29','b_29','c_29','a_30','b_30','c_30'\n",
    "]\n",
    "            df.to_csv(a)\n",
    "            print('done')\n",
    "print('Mission Accomplished!')"
   ]
  },
  {
   "cell_type": "code",
   "execution_count": null,
   "metadata": {},
   "outputs": [],
   "source": []
  },
  {
   "cell_type": "code",
   "execution_count": null,
   "metadata": {},
   "outputs": [],
   "source": []
  },
  {
   "cell_type": "code",
   "execution_count": null,
   "metadata": {},
   "outputs": [],
   "source": []
  },
  {
   "cell_type": "code",
   "execution_count": null,
   "metadata": {},
   "outputs": [],
   "source": []
  },
  {
   "cell_type": "code",
   "execution_count": null,
   "metadata": {},
   "outputs": [],
   "source": []
  },
  {
   "cell_type": "code",
   "execution_count": null,
   "metadata": {},
   "outputs": [],
   "source": []
  },
  {
   "cell_type": "code",
   "execution_count": null,
   "metadata": {},
   "outputs": [],
   "source": []
  },
  {
   "cell_type": "code",
   "execution_count": null,
   "metadata": {},
   "outputs": [],
   "source": []
  },
  {
   "cell_type": "code",
   "execution_count": null,
   "metadata": {},
   "outputs": [],
   "source": []
  },
  {
   "cell_type": "code",
   "execution_count": null,
   "metadata": {},
   "outputs": [],
   "source": []
  },
  {
   "cell_type": "code",
   "execution_count": null,
   "metadata": {},
   "outputs": [],
   "source": []
  }
 ],
 "metadata": {
  "kernelspec": {
   "display_name": "Python 3",
   "language": "python",
   "name": "python3"
  },
  "language_info": {
   "codemirror_mode": {
    "name": "ipython",
    "version": 3
   },
   "file_extension": ".py",
   "mimetype": "text/x-python",
   "name": "python",
   "nbconvert_exporter": "python",
   "pygments_lexer": "ipython3",
   "version": "3.6.9"
  }
 },
 "nbformat": 4,
 "nbformat_minor": 4
}
