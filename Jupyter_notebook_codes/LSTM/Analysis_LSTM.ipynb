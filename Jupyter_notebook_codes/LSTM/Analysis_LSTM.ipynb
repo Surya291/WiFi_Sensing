{
 "cells": [
  {
   "cell_type": "code",
   "execution_count": 2,
   "metadata": {},
   "outputs": [
    {
     "name": "stderr",
     "output_type": "stream",
     "text": [
      "Using TensorFlow backend.\n"
     ]
    }
   ],
   "source": [
    "import pandas as pd\n",
    "from scipy.fftpack import fft\n",
    "import numpy as np\n",
    "import matplotlib.pyplot as plt\n",
    "import scipy.stats as s\n",
    "import os\n",
    "\n",
    "\n",
    "# lstm model\n",
    "from numpy import mean\n",
    "from numpy import std\n",
    "from numpy import dstack\n",
    "from pandas import read_csv\n",
    "from keras.models import Sequential\n",
    "from keras.layers import Dense\n",
    "from keras.layers import Flatten\n",
    "from keras.layers import Dropout\n",
    "from keras.layers import LSTM\n",
    "from keras.utils import to_categorical\n",
    "from matplotlib import pyplot"
   ]
  },
  {
   "cell_type": "code",
   "execution_count": 14,
   "metadata": {},
   "outputs": [
    {
     "name": "stdout",
     "output_type": "stream",
     "text": [
      "            File    t_1    t_2    t_3    t_4    t_5    t_6    t_7    t_8  \\\n",
      "0  no_act_1(0,1)  14.04  12.65  12.65  12.21  12.08  12.21  13.15  12.21   \n",
      "1  no_act_1(0,2)  12.81  13.00  13.04  13.60  12.00  12.04  13.60  11.70   \n",
      "2  no_act_1(0,3)  13.04  13.34  13.04  13.60  13.60  15.13  13.45  13.00   \n",
      "3  no_act_1(0,4)  13.04  13.34  13.00  13.60  12.53  13.93  12.21  13.60   \n",
      "4  no_act_1(0,5)  12.65  13.15  14.42  12.53  12.04  12.65  13.04  13.00   \n",
      "\n",
      "     t_9  ...  t_292  t_293  t_294  t_295  t_296  t_297  t_298  t_299  t_300  \\\n",
      "0  13.04  ...  12.21  13.15  13.15  13.00  13.00  12.21  15.03  13.04  12.65   \n",
      "1  13.04  ...  13.45  13.00  14.00  13.60  13.93  13.04  12.08  12.21  13.60   \n",
      "2  12.65  ...  13.15  13.00  13.60  13.04  12.21  13.00  12.04  12.53  12.37   \n",
      "3  13.93  ...  13.42  13.15  13.60  12.81  13.60  13.34  13.04  12.21  12.53   \n",
      "4  13.15  ...  14.04  13.60  12.04  12.65  13.60  13.15  14.87  13.60  12.81   \n",
      "\n",
      "     Y  \n",
      "0  0.0  \n",
      "1  0.0  \n",
      "2  0.0  \n",
      "3  0.0  \n",
      "4  0.0  \n",
      "\n",
      "[5 rows x 302 columns]\n"
     ]
    }
   ],
   "source": [
    "data = pd.read_csv('LSTM_mag.csv')\n",
    "print(data.head())"
   ]
  },
  {
   "cell_type": "code",
   "execution_count": 79,
   "metadata": {},
   "outputs": [],
   "source": [
    "from sklearn.model_selection import KFold, cross_val_score, train_test_split\n",
    "train, test = train_test_split(data, test_size=.1)"
   ]
  },
  {
   "cell_type": "code",
   "execution_count": 80,
   "metadata": {},
   "outputs": [
    {
     "name": "stdout",
     "output_type": "stream",
     "text": [
      "(10602, 300, 1) (10602,)\n",
      "(1178, 300, 1) (1178,)\n",
      "(10602, 300, 1) (10602, 2)\n",
      "(1178, 300, 1) (1178, 2)\n"
     ]
    }
   ],
   "source": [
    "trainX = np.array(train[train.columns[1:301]])\n",
    "trainX = np.reshape(trainX,(trainX.shape[0],trainX.shape[1],1))\n",
    "trainY = train[\"Y\"]\n",
    "\n",
    "testX = np.array(test[test.columns[1:301]])\n",
    "testX = np.reshape(testX,(testX.shape[0],testX.shape[1],1))\n",
    "testY = test[\"Y\"]\n",
    "\n",
    "print(trainX.shape,trainY.shape)\n",
    "print(testX.shape,testY.shape)\n",
    "\n",
    "trainY = to_categorical(trainY)\n",
    "testY = to_categorical(testY)\n",
    "print(trainX.shape,trainY.shape)\n",
    "print(testX.shape,testY.shape)"
   ]
  },
  {
   "cell_type": "code",
   "execution_count": 81,
   "metadata": {},
   "outputs": [],
   "source": [
    "def make_model(trainX,trainY,testX,testY):\n",
    "    verbose , epochs, bs= 1,7,2000\n",
    "    n_timesteps,n_features,n_outputs = trainX.shape[1],trainX.shape[2], testY.shape[1]\n",
    "    \n",
    "    \n",
    "    model=Sequential()\n",
    "    model.add(LSTM(100,input_shape=(n_timesteps,n_features)))\n",
    "    model.add(Dropout(0.5))\n",
    "    model.add(Dense(100,activation= 'relu'))\n",
    "    model.add(Dense(n_outputs,activation = 'softmax'))\n",
    "    \n",
    "    model.compile(loss = 'categorical_crossentropy',optimizer= 'adam',metrics = ['accuracy'])\n",
    "    model.fit(trainX,trainY,epochs= epochs,batch_size = bs,verbose = 1)\n",
    "    \n",
    "    _,accuracy  = model.evaluate(testX,testY,batch_size = bs,verbose = 1)\n",
    "    print(model.summary())\n",
    "    return accuracy\n",
    "    \n",
    "    "
   ]
  },
  {
   "cell_type": "code",
   "execution_count": 82,
   "metadata": {},
   "outputs": [
    {
     "name": "stdout",
     "output_type": "stream",
     "text": [
      "Epoch 1/7\n",
      "10602/10602 [==============================] - 4s 360us/step - loss: 0.3015 - accuracy: 0.9401\n",
      "Epoch 2/7\n",
      "10602/10602 [==============================] - 3s 319us/step - loss: 0.1585 - accuracy: 0.9681\n",
      "Epoch 3/7\n",
      "10602/10602 [==============================] - 3s 319us/step - loss: 0.1660 - accuracy: 0.9681\n",
      "Epoch 4/7\n",
      "10602/10602 [==============================] - 3s 321us/step - loss: 0.1525 - accuracy: 0.9681\n",
      "Epoch 5/7\n",
      "10602/10602 [==============================] - 3s 327us/step - loss: 0.1412 - accuracy: 0.9681\n",
      "Epoch 6/7\n",
      "10602/10602 [==============================] - 3s 327us/step - loss: 0.1404 - accuracy: 0.9681\n",
      "Epoch 7/7\n",
      "10602/10602 [==============================] - 3s 320us/step - loss: 0.1379 - accuracy: 0.9681\n",
      "1178/1178 [==============================] - 0s 151us/step\n",
      "Model: \"sequential_18\"\n",
      "_________________________________________________________________\n",
      "Layer (type)                 Output Shape              Param #   \n",
      "=================================================================\n",
      "lstm_18 (LSTM)               (None, 100)               40800     \n",
      "_________________________________________________________________\n",
      "dropout_18 (Dropout)         (None, 100)               0         \n",
      "_________________________________________________________________\n",
      "dense_35 (Dense)             (None, 100)               10100     \n",
      "_________________________________________________________________\n",
      "dense_36 (Dense)             (None, 2)                 202       \n",
      "=================================================================\n",
      "Total params: 51,102\n",
      "Trainable params: 51,102\n",
      "Non-trainable params: 0\n",
      "_________________________________________________________________\n",
      "None\n",
      ">> #1: 96.435\n",
      "Epoch 1/7\n",
      "10602/10602 [==============================] - 4s 354us/step - loss: 0.3553 - accuracy: 0.9098\n",
      "Epoch 2/7\n",
      "10602/10602 [==============================] - 3s 329us/step - loss: 0.1572 - accuracy: 0.9681\n",
      "Epoch 3/7\n",
      "10602/10602 [==============================] - 3s 326us/step - loss: 0.1672 - accuracy: 0.9681\n",
      "Epoch 4/7\n",
      "10602/10602 [==============================] - 3s 325us/step - loss: 0.1545 - accuracy: 0.9681\n",
      "Epoch 5/7\n",
      "10602/10602 [==============================] - 3s 324us/step - loss: 0.1448 - accuracy: 0.9681\n",
      "Epoch 6/7\n",
      "10602/10602 [==============================] - 3s 317us/step - loss: 0.1411 - accuracy: 0.9681\n",
      "Epoch 7/7\n",
      "10602/10602 [==============================] - 3s 318us/step - loss: 0.1353 - accuracy: 0.9681\n",
      "1178/1178 [==============================] - 0s 148us/step\n",
      "Model: \"sequential_19\"\n",
      "_________________________________________________________________\n",
      "Layer (type)                 Output Shape              Param #   \n",
      "=================================================================\n",
      "lstm_19 (LSTM)               (None, 100)               40800     \n",
      "_________________________________________________________________\n",
      "dropout_19 (Dropout)         (None, 100)               0         \n",
      "_________________________________________________________________\n",
      "dense_37 (Dense)             (None, 100)               10100     \n",
      "_________________________________________________________________\n",
      "dense_38 (Dense)             (None, 2)                 202       \n",
      "=================================================================\n",
      "Total params: 51,102\n",
      "Trainable params: 51,102\n",
      "Non-trainable params: 0\n",
      "_________________________________________________________________\n",
      "None\n",
      ">> #2: 96.435\n",
      "Epoch 1/7\n",
      "10602/10602 [==============================] - 4s 341us/step - loss: 0.2228 - accuracy: 0.9600\n",
      "Epoch 2/7\n",
      "10602/10602 [==============================] - 3s 325us/step - loss: 0.1626 - accuracy: 0.9681\n",
      "Epoch 3/7\n",
      "10602/10602 [==============================] - 3s 324us/step - loss: 0.1631 - accuracy: 0.9681\n",
      "Epoch 4/7\n",
      "10602/10602 [==============================] - 4s 331us/step - loss: 0.1453 - accuracy: 0.9681\n",
      "Epoch 5/7\n",
      "10602/10602 [==============================] - 3s 319us/step - loss: 0.1397 - accuracy: 0.9681\n",
      "Epoch 6/7\n",
      "10602/10602 [==============================] - 3s 318us/step - loss: 0.1386 - accuracy: 0.9681\n",
      "Epoch 7/7\n",
      "10602/10602 [==============================] - 3s 317us/step - loss: 0.1355 - accuracy: 0.9681\n",
      "1178/1178 [==============================] - 0s 148us/step\n",
      "Model: \"sequential_20\"\n",
      "_________________________________________________________________\n",
      "Layer (type)                 Output Shape              Param #   \n",
      "=================================================================\n",
      "lstm_20 (LSTM)               (None, 100)               40800     \n",
      "_________________________________________________________________\n",
      "dropout_20 (Dropout)         (None, 100)               0         \n",
      "_________________________________________________________________\n",
      "dense_39 (Dense)             (None, 100)               10100     \n",
      "_________________________________________________________________\n",
      "dense_40 (Dense)             (None, 2)                 202       \n",
      "=================================================================\n",
      "Total params: 51,102\n",
      "Trainable params: 51,102\n",
      "Non-trainable params: 0\n",
      "_________________________________________________________________\n",
      "None\n",
      ">> #3: 96.435\n",
      "[96.43463492393494, 96.43463492393494, 96.43463492393494]\n"
     ]
    }
   ],
   "source": [
    "def run_expt(trainX,trainY,testX,testY,repeats=2):\n",
    "    scores = list()\n",
    "    for r in range(repeats):\n",
    "        score = make_model(trainX,trainY,testX,testY)\n",
    "        score = score*100\n",
    "        print('>> #%d: %.3f' %(r+1,score))\n",
    "        scores.append(score)\n",
    "    print(scores)\n",
    "run_expt(trainX,trainY,testX,testY,repeats=3)"
   ]
  }
 ],
 "metadata": {
  "kernelspec": {
   "display_name": "Python 3",
   "language": "python",
   "name": "python3"
  },
  "language_info": {
   "codemirror_mode": {
    "name": "ipython",
    "version": 3
   },
   "file_extension": ".py",
   "mimetype": "text/x-python",
   "name": "python",
   "nbconvert_exporter": "python",
   "pygments_lexer": "ipython3",
   "version": "3.7.7"
  }
 },
 "nbformat": 4,
 "nbformat_minor": 4
}
