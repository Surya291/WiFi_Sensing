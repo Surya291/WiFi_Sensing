{
 "cells": [
  {
   "cell_type": "code",
   "execution_count": 32,
   "metadata": {},
   "outputs": [],
   "source": [
    "import pandas as pd\n",
    "from scipy.fftpack import fft\n",
    "import numpy as np\n",
    "import matplotlib.pyplot as plt"
   ]
  },
  {
   "cell_type": "code",
   "execution_count": 24,
   "metadata": {},
   "outputs": [
    {
     "name": "stdout",
     "output_type": "stream",
     "text": [
      "Under Progress csi_walk_d6e5_2.csv\n",
      "Under Progress csi_walk_a4c6_1.csv\n",
      "Under Progress csi_walk_c1_1.csv\n",
      "Under Progress csi_walk_a3d6_2.csv\n",
      "Under Progress csi_walk_b1_1.csv\n",
      "Under Progress csi_walk_b2_1.csv\n",
      "Under Progress csi_walk_b6e3_2.csv\n",
      "Under Progress csi_walk_a4c6_2.csv\n",
      "Under Progress csi_walk_e2_1.csv\n",
      "Under Progress csi_walk_b1e4_2.csv\n",
      "Under Progress csi_walk_a4_1.csv\n",
      "Under Progress csi_walk_a5e1_2.csv\n",
      "Under Progress csi_walk_a6e2_1.csv\n",
      "Under Progress csi_walk_e1_1.csv\n",
      "Under Progress csi_walk_a5_1.csv\n",
      "Under Progress csi_walk_a2b1_1.csv\n",
      "Under Progress csi_walk_d1e2_1.csv\n",
      "Under Progress csi_walk_b6_1.csv\n",
      "Under Progress csi_walk_a3c1_1.csv\n",
      "Under Progress csi_walk_a5b6_1.csv\n",
      "Under Progress csi_walk_a4d1_2.csv\n",
      "Under Progress csi_walk_a2_1.csv\n",
      "Under Progress csi_walk_a2b1_2.csv\n",
      "Under Progress csi_walk_d4_1.csv\n",
      "Under Progress csi_walk_c4_1.csv\n",
      "Under Progress csi_walk_a4d1_1.csv\n",
      "Under Progress csi_walk_d3_1.csv\n",
      "Under Progress csi_walk_a5b6_2.csv\n",
      "Under Progress csi_walk_a3c1_2.csv\n",
      "Under Progress csi_walk_c6e4_2.csv\n",
      "Under Progress csi_walk_c6_1.csv\n",
      "Under Progress csi_walk_d6e5_1.csv\n",
      "Under Progress csi_walk_a3_1.csv\n",
      "Under Progress csi_walk_a3d6_1.csv\n",
      "Under Progress csi_walk_d2_1.csv\n",
      "Under Progress csi_walk_c6e4_1.csv\n",
      "Under Progress csi_walk_c1e3_1.csv\n",
      "Under Progress csi_walk_e5_1.csv\n",
      "Under Progress csi_walk_c3_1.csv\n",
      "Under Progress csi_walk_e4_1.csv\n",
      "Under Progress csi_walk_a2e6_2.csv\n",
      "Under Progress csi_walk_c5_1.csv\n",
      "Under Progress csi_walk_b1e4_1.csv\n",
      "Under Progress csi_walk_c1e3_2.csv\n",
      "Under Progress csi_walk_b6e3_1.csv\n",
      "Under Progress csi_walk_a6e2_2.csv\n",
      "Under Progress csi_walk_a1e5_2.csv\n",
      "Under Progress csi_walk_a2e6_1.csv\n",
      "Under Progress csi_walk_e3_1.csv\n",
      "Under Progress csi_walk_a1e5_1.csv\n",
      "Under Progress csi_walk_b4_1.csv\n",
      "Under Progress csi_walk_a5e1_1.csv\n",
      "Under Progress csi_walk_b5_1.csv\n",
      "Under Progress csi_walk_b3_1.csv\n",
      "Under Progress csi_walk_a6_1.csv\n",
      "Under Progress csi_walk_b1e2_2.csv\n",
      "Under Progress csi_walk_d6_1.csv\n",
      "Under Progress csi_walk_c2_1.csv\n",
      "Under Progress csi_walk_d5_1.csv\n",
      "Under Progress csi_walk_d1_1.csv\n",
      "                      0     1  2\n",
      "0   csi_noactivity_1-01  0.23  0\n",
      "1   csi_noactivity_1-02  0.22  0\n",
      "2   csi_noactivity_1-03  0.24  0\n",
      "3   csi_noactivity_1-04  0.24  0\n",
      "4   csi_noactivity_1-05  0.24  0\n",
      "..                  ...   ... ..\n",
      "1               d1_1-02   0.2  0\n",
      "2               d1_1-03  0.21  0\n",
      "3               d1_1-04  0.25  0\n",
      "4               d1_1-05  0.26  0\n",
      "5               d1_1-06  0.69  0\n",
      "\n",
      "[372 rows x 3 columns]\n",
      "done !!\n"
     ]
    }
   ],
   "source": [
    "import os\n",
    "directory = '/home/surya/Desktop/wifi_sensing/intel_dataset/intel_captures_for_25x30Room/act'\n",
    "z = '~/Desktop/wifi_sensing/intel_dataset/intel_captures_for_25x30Room/act/'\n",
    "#my_df = pd.DataFrame()\n",
    "#my_df = pd.read_csv('data_set.csv')\n",
    "\n",
    "for filename in os.listdir(directory):\n",
    "    if filename.endswith(\".csv\"):\n",
    "        a = z + filename\n",
    "        print('Under Progress',filename)\n",
    "        \n",
    "        ##################################\n",
    "        name = filename\n",
    "        sstring1 = 'csi_walk_'\n",
    "        sstring2 = '.csv'\n",
    "        res = name.replace(sstring1, '') \n",
    "        res = res.replace(sstring2, '') \n",
    "        labels = [res + '-01',res + '-02',res + '-03',res + '-04',res + '-05',res + '-06']\n",
    "        #print(labels)\n",
    "        #print(res)\n",
    "        \n",
    "        y = [0,0,0,0,0,0]\n",
    "        V2 = np.zeros((30,6))\n",
    "        V_no = np.zeros(30)\n",
    "        Var_mean = np.zeros((6,1))\n",
    "        \n",
    "        ##################################\n",
    "        \n",
    "        csv = a\n",
    "        df = pd.read_csv(csv,usecols=range(1,91))\n",
    "        df =df.applymap(lambda s: np.complex(s.replace('i', 'j')))\n",
    "        \n",
    "        ##################################\n",
    "        \n",
    "        for i in range(1, 31):\n",
    "            Z = []\n",
    "            k = 'c_'\n",
    "            Z.append(k + str(i))\n",
    "            \n",
    "            \n",
    "            b= df[Z[0]].values\n",
    "\n",
    "            b_1 = b[0:5000]\n",
    "            m_b1 = np.mean(abs(b_1))\n",
    "\n",
    "            b_2 = b[5000:10000]\n",
    "            m_b2 = np.mean(abs(b_2))\n",
    "    \n",
    "            b_3 = b[10000:15000]\n",
    "            m_b3 = np.mean(abs(b_3))\n",
    "    \n",
    "            b_4 = b[15000:20000]\n",
    "            m_b4 = np.mean(abs(b_4))\n",
    "    \n",
    "            b_5 = b[20000:25000]\n",
    "            m_b5 = np.mean(abs(b_5))\n",
    "    \n",
    "            b_6 = b[25000:30000]\n",
    "            m_b6 = np.mean(abs(b_6))\n",
    "            \n",
    "            var = [np.var((abs(b_1)-m_b1)),np.var((abs(b_2)-m_b2)),np.var((abs(b_3)-m_b3)),np.var((abs(b_4)-m_b4)),np.var((abs(b_5)-m_b5)),np.var((abs(b_6)-m_b6))]\n",
    "            V2[i-1][:] = var\n",
    "                \n",
    "                \n",
    "        n = np.arange(1,31)\n",
    "        m1 = np.mean(V2[:,0])\n",
    "        m2 = np.mean(V2[:,1])\n",
    "        m3 = np.mean(V2[:,2])\n",
    "        m4 = np.mean(V2[:,3])\n",
    "        m5 = np.mean(V2[:,4])\n",
    "        m6 = np.mean(V2[:,5])\n",
    "        \n",
    "        Var_mean = [m1,m2,m3,m4,m5,m6]\n",
    "        Var_mean = (np.round(Var_mean,decimals = 2))\n",
    "            \n",
    "        data_temp = [labels,Var_mean,y]\n",
    "        \n",
    "        df_temp = pd.DataFrame(np.transpose(data_temp))\n",
    "        my_df = my_df.append(df_temp)\n",
    "            \n",
    "        #print(data_temp)\n",
    "        \n",
    "        \n",
    "print(my_df)\n",
    "#my_df.to_csv('data_set_no_act.csv', index=False) \n",
    "\n",
    "print('done !!')\n",
    "        "
   ]
  },
  {
   "cell_type": "code",
   "execution_count": 25,
   "metadata": {},
   "outputs": [
    {
     "name": "stdout",
     "output_type": "stream",
     "text": [
      "['0.23' '0.22' '0.24' '0.24' '0.24' '0.23' '0.23' '0.22' '0.23' '0.23'\n",
      " '0.23' '0.22' '4.95' '2.95' '5.56' '4.4' '5.34' '4.62' '0.48' '0.36'\n",
      " '0.52' '0.39' '0.4' '0.4' '0.21' '0.28' '0.25' '0.23' '0.28' '0.79'\n",
      " '0.74' '0.51' '0.56' '0.84' '0.47' '0.71' '0.58' '0.43' '0.86' '0.7'\n",
      " '0.82' '1.42' '1.02' '1.21' '2.38' '2.68' '2.11' '1.84' '1.59' '1.74'\n",
      " '1.52' '1.71' '0.53' '1.7' '0.4' '0.46' '0.51' '0.36' '0.58' '0.36'\n",
      " '0.24' '0.25' '0.25' '0.26' '0.24' '0.68' '0.58' '1.14' '0.52' '0.71'\n",
      " '0.85' '0.56' '0.34' '0.36' '0.33' '0.36' '0.38' '0.37' '1.49' '1.28'\n",
      " '0.44' '1.45' '0.46' '1.3' '1.59' '1.13' '0.43' '1.29' '1.64' '0.71'\n",
      " '0.19' '0.19' '0.19' '0.18' '0.19' '1.05' '0.32' '0.33' '0.33' '0.29'\n",
      " '0.29' '0.29' '1.23' '1.68' '2.06' '1.36' '2.22' '1.27' '0.41' '0.39'\n",
      " '0.44' '0.47' '0.41' '0.38' '0.28' '0.3' '0.3' '0.3' '0.28' '0.83' '1.53'\n",
      " '1.13' '1.31' '1.15' '1.23' '1.02' '0.27' '0.31' '0.33' '0.31' '0.31'\n",
      " '0.28' '0.59' '1.06' '1.22' '0.38' '0.98' '1.38' '0.98' '0.83' '0.91'\n",
      " '0.8' '0.88' '0.74' '1.68' '1.18' '1.37' '2.39' '1.56' '1.3' '1.59'\n",
      " '1.34' '0.92' '1.38' '1.28' '1.73' '1.18' '1.16' '0.96' '1.17' '0.86'\n",
      " '1.55' '0.88' '1.07' '1.27' '0.47' '1.11' '1.51' '0.36' '0.38' '0.3'\n",
      " '0.35' '0.33' '0.86' '0.3' '0.3' '0.29' '0.34' '0.3' '0.26' '1.14' '0.94'\n",
      " '1.23' '1.03' '0.99' '1.22' '1.97' '1.6' '2.13' '2.34' '2.06' '2.28'\n",
      " '0.35' '0.33' '0.35' '0.39' '0.33' '0.8' '6.32' '3.85' '3.47' '5.67'\n",
      " '3.34' '4.56' '0.44' '0.5' '0.43' '0.4' '0.41' '0.48' '0.59' '0.41'\n",
      " '0.56' '0.6' '0.39' '0.69' '0.24' '0.24' '0.23' '0.22' '0.22' '0.7'\n",
      " '3.78' '2.02' '2.6' '2.26' '2.58' '2.61' '0.47' '0.45' '0.49' '0.64'\n",
      " '0.42' '0.44' '3.85' '4.48' '3.32' '3.47' '2.81' '2.55' '1.31' '1.13'\n",
      " '1.18' '1.13' '1.4' '1.17' '0.32' '0.35' '0.32' '0.32' '0.31' '0.8'\n",
      " '2.75' '1.03' '3.85' '7.41' '1.49' '2.12' '0.37' '0.47' '0.41' '0.38'\n",
      " '0.42' '1.16' '0.85' '0.69' '0.78' '0.99' '0.77' '0.6' '0.57' '0.47'\n",
      " '0.53' '0.51' '0.47' '0.68' '1.44' '1.61' '1.44' '1.01' '1.63' '1.71'\n",
      " '1.17' '1.47' '0.49' '1.1' '1.3' '0.4' '3.36' '5.47' '2.92' '1.94' '5.63'\n",
      " '1.58' '3.4' '0.92' '0.74' '1.63' '0.73' '0.95' '0.24' '0.22' '0.24'\n",
      " '0.25' '0.24' '0.71' '2.99' '7.26' '3.12' '3.54' '4.45' '6.17' '0.34'\n",
      " '0.34' '0.39' '0.38' '0.4' '1.45' '1.36' '1.26' '0.4' '1.3' '0.99' '0.85'\n",
      " '0.33' '0.35' '0.38' '0.36' '0.41' '0.94' '0.68' '0.63' '0.67' '0.84'\n",
      " '0.93' '1.43' '0.31' '0.32' '0.29' '0.3' '0.28' '0.25' '0.41' '0.39'\n",
      " '0.39' '0.39' '0.54' '0.68' '0.37' '0.39' '0.34' '0.33' '0.37' '1.49'\n",
      " '0.5' '0.39' '0.42' '0.39' '0.32' '0.93' '5.36' '3.84' '2.9' '4.33' '2.7'\n",
      " '2.4' '0.21' '0.2' '0.21' '0.25' '0.26' '0.69']\n"
     ]
    }
   ],
   "source": [
    "var_c = my_df[my_df.columns[1]]\n",
    "var_c = np.array(var_c)\n",
    "print (var_c)"
   ]
  },
  {
   "cell_type": "code",
   "execution_count": 26,
   "metadata": {},
   "outputs": [
    {
     "name": "stdout",
     "output_type": "stream",
     "text": [
      "                    FILE  VAR_A   VAR  Y\n",
      "0    csi_noactivity_1-01   2.02  1.01  0\n",
      "1    csi_noactivity_1-02   1.05  0.59  0\n",
      "2    csi_noactivity_1-03   1.45  0.77  0\n",
      "3    csi_noactivity_1-04   1.47  0.78  0\n",
      "4    csi_noactivity_1-05   1.44  0.77  0\n",
      "..                   ...    ...   ... ..\n",
      "367              d1_1-02   0.95  1.48  1\n",
      "368              d1_1-03   1.02  1.55  1\n",
      "369              d1_1-04   1.27  2.49  1\n",
      "370              d1_1-05   1.17  2.48  1\n",
      "371              d1_1-06   3.99  1.99  1\n",
      "\n",
      "[372 rows x 4 columns]\n",
      "                    FILE  VAR_A   VAR VAR_C  Y\n",
      "0    csi_noactivity_1-01   2.02  1.01  0.23  0\n",
      "1    csi_noactivity_1-02   1.05  0.59  0.22  0\n",
      "2    csi_noactivity_1-03   1.45  0.77  0.24  0\n",
      "3    csi_noactivity_1-04   1.47  0.78  0.24  0\n",
      "4    csi_noactivity_1-05   1.44  0.77  0.24  0\n",
      "..                   ...    ...   ...   ... ..\n",
      "367              d1_1-02   0.95  1.48   0.2  1\n",
      "368              d1_1-03   1.02  1.55  0.21  1\n",
      "369              d1_1-04   1.27  2.49  0.25  1\n",
      "370              d1_1-05   1.17  2.48  0.26  1\n",
      "371              d1_1-06   3.99  1.99  0.69  1\n",
      "\n",
      "[372 rows x 5 columns]\n"
     ]
    }
   ],
   "source": [
    "data = pd.read_csv('data_set.csv')\n",
    "print(data)\n",
    "data.insert(3, \"VAR_C\", var_c)\n",
    "print(data)\n",
    "data.to_csv('data_set.csv', index=False) "
   ]
  },
  {
   "cell_type": "code",
   "execution_count": null,
   "metadata": {},
   "outputs": [],
   "source": [
    "# plotting the variances of 'b' receiver :  \n",
    "import os\n",
    "directory = '/home/surya/Desktop/wifi_sensing/intel_dataset/intel_captures_for_25x30Room/July19_csv'\n",
    "z = '~/Desktop/wifi_sensing/intel_dataset/intel_captures_for_25x30Room/July19_csv/'\n",
    "\n",
    "for filename in os.listdir(directory):\n",
    "    if filename.endswith(\".csv\"):\n",
    "        a = z + filename\n",
    "        print('Under Progress',filename)\n",
    "        csv = a\n",
    "        df = pd.read_csv(csv,usecols=range(1,91))\n",
    "        df =df.applymap(lambda s: np.complex(s.replace('i', 'j')))\n",
    "        V = np.zeros((30,1))\n",
    "        \n",
    "        \n",
    "        for i in range(1, 31):\n",
    "            Z = []\n",
    "            for k in ['b_']:\n",
    "                Z.append(k + str(i)) \n",
    "\n",
    "                b= df[Z[0]].values\n",
    "                #print(np.shape(b))\n",
    "                m_b = np.mean(abs(b))\n",
    "                V[i-1] = np.var((abs(b)-m_b)) \n",
    "            #print(V[i-1])\n",
    "        \n",
    "        n = np.arange(1,31)\n",
    "        \n",
    "        plt.plot(n,V,label = 'b_1')\n",
    "        plt.plot(n,V_no,label = 'b_no_act')\n",
    "        \n",
    "        plt.show()\n",
    "        \n",
    "        \n",
    "print('Mission Accomplished !!')    \n"
   ]
  },
  {
   "cell_type": "code",
   "execution_count": 6,
   "metadata": {
    "scrolled": true
   },
   "outputs": [
    {
     "name": "stdout",
     "output_type": "stream",
     "text": [
      "Under Progress csi_noactivity_1.csv\n",
      "Under Progress csi_noactivity_2.csv\n"
     ]
    }
   ],
   "source": [
    "import os\n",
    "directory = '/home/surya/Desktop/wifi_sensing/intel_dataset/intel_captures_for_25x30Room/no_act'\n",
    "z = '~/Desktop/wifi_sensing/intel_dataset/intel_captures_for_25x30Room/no_act/'\n",
    "\n",
    "for filename in os.listdir(directory):\n",
    "    if filename.endswith(\".csv\"):\n",
    "        a = z + filename\n",
    "        print('Under Progress',filename)\n",
    "        "
   ]
  },
  {
   "cell_type": "code",
   "execution_count": 21,
   "metadata": {},
   "outputs": [
    {
     "name": "stdout",
     "output_type": "stream",
     "text": [
      "                       0     1  2\n",
      "0    csi_noactivity_1-01  1.01  0\n",
      "1    csi_noactivity_1-02  0.59  0\n",
      "2    csi_noactivity_1-03  0.77  0\n",
      "3    csi_noactivity_1-04  0.78  0\n",
      "4    csi_noactivity_1-05  0.77  0\n",
      "..                   ...   ... ..\n",
      "355              d1_1-02  1.48  1\n",
      "356              d1_1-03  1.55  1\n",
      "357              d1_1-04  2.49  1\n",
      "358              d1_1-05  2.48  1\n",
      "359              d1_1-06  1.99  1\n",
      "\n",
      "[372 rows x 3 columns]\n",
      "done\n"
     ]
    }
   ],
   "source": [
    "df_noact = pd.read_csv('data_set_no_act.csv')\n",
    "df_act = pd.read_csv('data_set.csv')\n",
    "\n",
    "df_noact = df_noact.append(df_act)\n",
    "\n",
    "print(df_noact)\n",
    "\n",
    "df_noact.to_csv('data_set.csv', index=False)\n",
    "\n",
    "print('done')"
   ]
  },
  {
   "cell_type": "code",
   "execution_count": 33,
   "metadata": {},
   "outputs": [
    {
     "name": "stdout",
     "output_type": "stream",
     "text": [
      "                    FILE  VAR_A  VAR_B  VAR_C  Y\n",
      "0    csi_noactivity_1-01   2.02   1.01   0.23  0\n",
      "1    csi_noactivity_1-02   1.05   0.59   0.22  0\n",
      "2    csi_noactivity_1-03   1.45   0.77   0.24  0\n",
      "3    csi_noactivity_1-04   1.47   0.78   0.24  0\n",
      "4    csi_noactivity_1-05   1.44   0.77   0.24  0\n",
      "..                   ...    ...    ...    ... ..\n",
      "367              d1_1-02   0.95   1.48   0.20  1\n",
      "368              d1_1-03   1.02   1.55   0.21  1\n",
      "369              d1_1-04   1.27   2.49   0.25  1\n",
      "370              d1_1-05   1.17   2.48   0.26  1\n",
      "371              d1_1-06   3.99   1.99   0.69  1\n",
      "\n",
      "[372 rows x 5 columns]\n"
     ]
    },
    {
     "data": {
      "text/plain": [
       "[<matplotlib.lines.Line2D at 0x7f89277f05c0>]"
      ]
     },
     "execution_count": 33,
     "metadata": {},
     "output_type": "execute_result"
    },
    {
     "data": {
      "image/png": "[encoded data removed]",
      "text/plain": [
       "<Figure size 432x288 with 1 Axes>"
      ]
     },
     "metadata": {
      "needs_background": "light"
     },
     "output_type": "display_data"
    }
   ],
   "source": [
    "##### ANALYSIS OF THE DATA SET : \n",
    "data_set = pd.read_csv('data_set.csv')\n",
    "print(data_set)\n",
    "\n",
    "n = np.arange(1,373)\n",
    "#print(n)\n",
    "plt.plot(n,data_set['VAR_C'])"
   ]
  }
 ],
 "metadata": {
  "kernelspec": {
   "display_name": "Python 3",
   "language": "python",
   "name": "python3"
  },
  "language_info": {
   "codemirror_mode": {
    "name": "ipython",
    "version": 3
   },
   "file_extension": ".py",
   "mimetype": "text/x-python",
   "name": "python",
   "nbconvert_exporter": "python",
   "pygments_lexer": "ipython3",
   "version": "3.6.9"
  }
 },
 "nbformat": 4,
 "nbformat_minor": 4
}
