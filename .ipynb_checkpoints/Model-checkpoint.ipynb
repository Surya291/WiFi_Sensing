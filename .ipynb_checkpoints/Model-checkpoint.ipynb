{
 "cells": [
  {
   "cell_type": "code",
   "execution_count": 1,
   "metadata": {},
   "outputs": [],
   "source": [
    "import pandas as pd\n",
    "from scipy.fftpack import fft\n",
    "import numpy as np\n",
    "import matplotlib.pyplot as plt\n",
    "from scipy import stats \n",
    "from sklearn.model_selection import KFold, cross_val_score, train_test_split"
   ]
  },
  {
   "cell_type": "code",
   "execution_count": 2,
   "metadata": {},
   "outputs": [
    {
     "name": "stdout",
     "output_type": "stream",
     "text": [
      "                  FILE   VAR   IQR  Y\n",
      "0  csi_noactivity_1-01  1.01  1.14  0\n",
      "1  csi_noactivity_1-02  0.59  0.94  0\n",
      "2  csi_noactivity_1-03  0.77  0.92  0\n",
      "3  csi_noactivity_1-04  0.78  0.94  0\n",
      "4  csi_noactivity_1-05  0.77  0.94  0\n"
     ]
    }
   ],
   "source": [
    "dataset =  'D:\\FILES\\linux-80211n-csitool-supplementary-master\\linux-80211n-csitool-supplementary-master\\matlab\\data_set.csv'\n",
    "data = pd.read_csv(dataset)\n",
    "print(data.head())"
   ]
  },
  {
   "cell_type": "code",
   "execution_count": 3,
   "metadata": {},
   "outputs": [],
   "source": [
    "from sklearn import svm\n",
    "train, test = train_test_split(data, test_size=.2)\n",
    "train_normal = train[train['Y']==1] \n",
    "train_outliers = train[train['Y']==0] \n",
    "outlier_prop = len(train_outliers) / len(train_normal) \n",
    "model = svm.OneClassSVM(kernel='rbf', nu=outlier_prop, gamma=0.0001) \n",
    "#print(train_normal[['VAR','IQR']])\n",
    "classifier = model.fit(train_normal[['VAR','IQR']])"
   ]
  },
  {
   "cell_type": "code",
   "execution_count": 4,
   "metadata": {},
   "outputs": [],
   "source": [
    "x1 = test[['VAR']] \n",
    "x2 = test['VAR'] \n",
    "y1 = test[['Y']]\n",
    "\n",
    "\n",
    "\n",
    "y_pred = model.predict(test[['VAR','IQR']]) \n",
    "\n",
    "for i in range(len(y_pred)):\n",
    "  if (y_pred[i] == -1):\n",
    "    y_pred[i] = 0\n",
    "\n",
    "y2 = y_pred"
   ]
  },
  {
   "cell_type": "code",
   "execution_count": 5,
   "metadata": {},
   "outputs": [
    {
     "name": "stdout",
     "output_type": "stream",
     "text": [
      "this is Actual :  [1 1 1 1 1 1 1 1 1 1 1 1 1 1 1 1 1 1 1 1 1 1 1 1 1 1 1 1 1 1 1 1 1 1 1 1 1\n",
      " 1 1 1 1 1 1 1 1 0 1 1 1 1 0 1 1 1 0 1 1 1 1 1 1 1 1 1 1 1 1 1 1 1 1 1 1 1\n",
      " 1]\n",
      "this is predicted :  [1 1 1 1 1 1 1 1 1 1 1 1 1 1 1 1 1 1 1 1 1 1 1 1 1 1 1 1 1 1 1 1 1 1 1 1 1\n",
      " 1 1 1 1 1 1 1 1 0 1 1 1 1 0 1 1 1 0 1 1 1 1 1 1 1 1 1 1 1 1 1 1 1 1 1 1 1\n",
      " 0]\n",
      "accuracy:  0.9866666666666667\n",
      "recall:  0.9861111111111112\n",
      "f1:  0.993006993006993\n",
      "area under curve (auc):  0.9930555555555556\n"
     ]
    }
   ],
   "source": [
    "from sklearn import metrics\n",
    "\n",
    "targs = np.array(test[['Y']])\n",
    "targs = np.reshape(targs,(75,))\n",
    "\n",
    "preds = y_pred\n",
    "\n",
    "\n",
    "print('this is Actual : ',targs)\n",
    "print('this is predicted : ',preds)\n",
    "print(\"accuracy: \", metrics.accuracy_score(targs, preds))\n",
    "\n",
    "\n",
    "#print(\"precision: \", metrics.precision_score(targs, preds)) \n",
    "print(\"recall: \", metrics.recall_score(targs, preds))\n",
    "print(\"f1: \", metrics.f1_score(targs, preds))\n",
    "print(\"area under curve (auc): \", metrics.roc_auc_score(targs, preds))"
   ]
  },
  {
   "cell_type": "code",
   "execution_count": null,
   "metadata": {},
   "outputs": [],
   "source": []
  }
 ],
 "metadata": {
  "kernelspec": {
   "display_name": "Python 3",
   "language": "python",
   "name": "python3"
  },
  "language_info": {
   "codemirror_mode": {
    "name": "ipython",
    "version": 3
   },
   "file_extension": ".py",
   "mimetype": "text/x-python",
   "name": "python",
   "nbconvert_exporter": "python",
   "pygments_lexer": "ipython3",
   "version": "3.7.4"
  }
 },
 "nbformat": 4,
 "nbformat_minor": 2
}
